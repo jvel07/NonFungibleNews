{
 "cells": [
  {
   "cell_type": "code",
   "id": "initial_id",
   "metadata": {
    "collapsed": true,
    "ExecuteTime": {
     "end_time": "2025-01-07T10:58:42.460741Z",
     "start_time": "2025-01-07T10:58:37.170672Z"
    }
   },
   "source": "",
   "outputs": [
    {
     "name": "stdout",
     "output_type": "stream",
     "text": [
      "Empty DataFrame\n",
      "Columns: [Title, Source, Date, Description]\n",
      "Index: []\n"
     ]
    }
   ],
   "execution_count": 1
  },
  {
   "metadata": {
    "ExecuteTime": {
     "end_time": "2025-01-07T11:39:08.374958Z",
     "start_time": "2025-01-07T11:39:05.212969Z"
    }
   },
   "cell_type": "code",
   "source": "",
   "id": "c1f3c9e7ae91a115",
   "outputs": [
    {
     "name": "stdout",
     "output_type": "stream",
     "text": [
      "Fetching article 1/5: https://news.google.com/rss/articles/CBMihAFBVV95cUxQR25fbmpFRU9uZzVHLUtCRzBNVEI1S3N3MGNNRHNTTnVQcFV0OXVKalppcVZxMF9FUjJQMmVqTWZxOFp4UnoxMnBTanV5UzJ2a0tFelhRZTU4bDI5bGI0SUhBQzZwbUJNV1FuTU8tWDBKQWlzNEdOUUY3X2xKRENMWnQwX1E?oc=5&hl=en-US&gl=US&ceid=US:en\n",
      "Fetching article 2/5: https://news.google.com/rss/articles/CBMiigFBVV95cUxPWEtaeXVQdXlfaFdHajl2NzBJcG5oeWdxS2F4Y2x4WkxETmZqbGduNmdwUVIyNjdxZ3YyM2g5bXZoa3NHRDhULTJ1aW4yaTBUbFJVM2FNbGFXdFZlZXlGM09VM3IxSWo4dnJra0ppeVNNV3puZGtlVDZpb0ZiTEM3N2ozQl9waFVVT0E?oc=5&hl=en-US&gl=US&ceid=US:en\n",
      "Fetching article 3/5: https://news.google.com/rss/articles/CBMilwFBVV95cUxQWnIta3Q0QmN1UHZJa0tQWGV3bjZkV2c3dk5NLWtHS0o2U0c2TGlyc3JIb2Z3bExhWnZkWXJ5WHhLcEpxMXJMdV9ZcXpfUUFaVVdSeWZOMjNucm9lVEwzbmM0WWxkVjVQZ1JyUFlFdXBpeWxKUnpDeHJ4amZobmRPYklJZXlmbmkzaFF4aGJyaTlvNVVRMGY0?oc=5&hl=en-US&gl=US&ceid=US:en\n",
      "Fetching article 4/5: https://news.google.com/rss/articles/CBMimAFBVV95cUxPaDg0NWJ6a0JlTTR1eURHMUp5VFlSdk5qVklrY194RmlwbDBJVlhvWFFtYV8wTnhFcnBCUGlReko3aTM5TElfX1RSWW9vX2s4WENVbmJQOFFxdHdfSFlpeExzMFA2YUV3NkEyc3VhTVN6cGlTNHdVcGlyWElVQU5tcy1hbTg5T0laakdDODZVRlhISV9PWHVEdA?oc=5&hl=en-US&gl=US&ceid=US:en\n",
      "Fetching article 5/5: https://news.google.com/rss/articles/CBMimAFBVV95cUxQVks1YkZEVnIzR1pjQkxta2xaWjlQUnJHY0VlRGxNX1QxbzlQRjdNeExSTEJvWklzZllNYlBkMEIwZ0pGVldlQVdfd0tmZjlPQmc0RXJISk9SRk1ZaGRfMnJENEpzd3g0ZW9KM0R6cVpINnRLd3Zndm5PY1RTSjEtSGJwZC02RGp5dTlmWmxUc2NCNFFXcGlVNQ?oc=5&hl=en-US&gl=US&ceid=US:en\n",
      "                                               title  \\\n",
      "0  3 Top Artificial Intelligence (AI) Stocks Read...   \n",
      "1  3 Premier Artificial Intelligence (AI) Stocks ...   \n",
      "2  2025 Is the Year of BATMMAAN. Artificial Intel...   \n",
      "3  This Tech Stock Could Dominate the Market for ...   \n",
      "4  3 Premier Artificial Intelligence (AI) Stocks ...   \n",
      "\n",
      "                                           full_text  \n",
      "0  Non-personalized content is influenced by thin...  \n",
      "1  Non-personalized content is influenced by thin...  \n",
      "2  Non-personalized content is influenced by thin...  \n",
      "3  Non-personalized content is influenced by thin...  \n",
      "4  Non-personalized content is influenced by thin...  \n"
     ]
    }
   ],
   "execution_count": 14
  },
  {
   "metadata": {
    "ExecuteTime": {
     "end_time": "2025-01-07T11:39:19.514007Z",
     "start_time": "2025-01-07T11:39:19.504224Z"
    }
   },
   "cell_type": "code",
   "source": "df[['title', 'full_text']].head()",
   "id": "a0d716e30d9fcab0",
   "outputs": [
    {
     "data": {
      "text/plain": [
       "                                               title  \\\n",
       "0  3 Top Artificial Intelligence (AI) Stocks Read...   \n",
       "1  3 Premier Artificial Intelligence (AI) Stocks ...   \n",
       "2  2025 Is the Year of BATMMAAN. Artificial Intel...   \n",
       "3  This Tech Stock Could Dominate the Market for ...   \n",
       "4  3 Premier Artificial Intelligence (AI) Stocks ...   \n",
       "\n",
       "                                           full_text  \n",
       "0  Non-personalized content is influenced by thin...  \n",
       "1  Non-personalized content is influenced by thin...  \n",
       "2  Non-personalized content is influenced by thin...  \n",
       "3  Non-personalized content is influenced by thin...  \n",
       "4  Non-personalized content is influenced by thin...  "
      ],
      "text/html": [
       "<div>\n",
       "<style scoped>\n",
       "    .dataframe tbody tr th:only-of-type {\n",
       "        vertical-align: middle;\n",
       "    }\n",
       "\n",
       "    .dataframe tbody tr th {\n",
       "        vertical-align: top;\n",
       "    }\n",
       "\n",
       "    .dataframe thead th {\n",
       "        text-align: right;\n",
       "    }\n",
       "</style>\n",
       "<table border=\"1\" class=\"dataframe\">\n",
       "  <thead>\n",
       "    <tr style=\"text-align: right;\">\n",
       "      <th></th>\n",
       "      <th>title</th>\n",
       "      <th>full_text</th>\n",
       "    </tr>\n",
       "  </thead>\n",
       "  <tbody>\n",
       "    <tr>\n",
       "      <th>0</th>\n",
       "      <td>3 Top Artificial Intelligence (AI) Stocks Read...</td>\n",
       "      <td>Non-personalized content is influenced by thin...</td>\n",
       "    </tr>\n",
       "    <tr>\n",
       "      <th>1</th>\n",
       "      <td>3 Premier Artificial Intelligence (AI) Stocks ...</td>\n",
       "      <td>Non-personalized content is influenced by thin...</td>\n",
       "    </tr>\n",
       "    <tr>\n",
       "      <th>2</th>\n",
       "      <td>2025 Is the Year of BATMMAAN. Artificial Intel...</td>\n",
       "      <td>Non-personalized content is influenced by thin...</td>\n",
       "    </tr>\n",
       "    <tr>\n",
       "      <th>3</th>\n",
       "      <td>This Tech Stock Could Dominate the Market for ...</td>\n",
       "      <td>Non-personalized content is influenced by thin...</td>\n",
       "    </tr>\n",
       "    <tr>\n",
       "      <th>4</th>\n",
       "      <td>3 Premier Artificial Intelligence (AI) Stocks ...</td>\n",
       "      <td>Non-personalized content is influenced by thin...</td>\n",
       "    </tr>\n",
       "  </tbody>\n",
       "</table>\n",
       "</div>"
      ]
     },
     "execution_count": 15,
     "metadata": {},
     "output_type": "execute_result"
    }
   ],
   "execution_count": 15
  },
  {
   "metadata": {
    "ExecuteTime": {
     "end_time": "2025-01-07T11:39:41.179578Z",
     "start_time": "2025-01-07T11:39:41.173256Z"
    }
   },
   "cell_type": "code",
   "source": "df.iloc[0]['full_text']",
   "id": "95b1ab7e3e728f0",
   "outputs": [
    {
     "data": {
      "text/plain": [
       "'Non-personalized content is influenced by things like the content you’re currently viewing, activity in your active Search session, and your location. Non-personalized ads are influenced by the content you’re currently viewing and your general location. Personalized content and ads can also include more relevant results, recommendations, and tailored ads based on past activity from this browser, like previous Google searches. We also use cookies and data to tailor the experience to be age-appropriate, if relevant.'"
      ]
     },
     "execution_count": 16,
     "metadata": {},
     "output_type": "execute_result"
    }
   ],
   "execution_count": 16
  },
  {
   "metadata": {
    "ExecuteTime": {
     "end_time": "2025-01-07T11:47:01.764041Z",
     "start_time": "2025-01-07T11:46:58.755968Z"
    }
   },
   "cell_type": "code",
   "source": [
    "from gnews import GNews\n",
    "import pandas as pd\n",
    "import trafilatura\n",
    "import requests\n",
    "import re\n",
    "import time\n",
    "\n",
    "def clean_text(text):\n",
    "    if not text:\n",
    "        return \"\"\n",
    "\n",
    "    # Remove language selection menus\n",
    "    text = re.sub(r'(?i)(English|Deutsch|Español|Français|Italiano).*?United States', '', text)\n",
    "\n",
    "    # Remove extra whitespace and newlines\n",
    "    text = re.sub(r'\\s+', ' ', text)\n",
    "\n",
    "    # Remove any remaining language codes\n",
    "    text = re.sub(r'- [a-zA-Z]{2}(-[a-zA-Z]{2})?(\\s|$)', '', text)\n",
    "\n",
    "    return text.strip()\n",
    "\n",
    "def get_full_news(query, max_articles=10):\n",
    "    # Initialize GNews\n",
    "    google_news = GNews(language='en', country='US', period='7d')\n",
    "    google_news.max_results = max_articles\n",
    "\n",
    "    # Get news articles\n",
    "    news = google_news.get_news(query)\n",
    "    news_df = pd.DataFrame(news)\n",
    "    news_df['full_text'] = ''\n",
    "\n",
    "    headers = {\n",
    "        'User-Agent': 'Mozilla/5.0 (Windows NT 10.0; Win64; x64) AppleWebKit/537.36 (KHTML, like Gecko) Chrome/120.0.0.0 Safari/537.36',\n",
    "        'Accept': 'text/html,application/xhtml+xml,application/xml;q=0.9,*/*;q=0.8',\n",
    "        'Accept-Language': 'en-US,en;q=0.5',\n",
    "        'DNT': '1'\n",
    "    }\n",
    "\n",
    "    for index, row in news_df.iterrows():\n",
    "        try:\n",
    "            print(f\"Fetching article {index + 1}/{len(news_df)}: {row['url']}\")\n",
    "\n",
    "            # Get webpage content\n",
    "            response = requests.get(row['url'], headers=headers, timeout=10)\n",
    "\n",
    "            # Configure trafilatura settings\n",
    "            downloaded = trafilatura.fetch_url(row['url'], headers=headers)\n",
    "\n",
    "            if downloaded:\n",
    "                text = trafilatura.extract(\n",
    "                    downloaded,\n",
    "                    include_comments=False,\n",
    "                    include_tables=False,\n",
    "                    no_fallback=False,\n",
    "                    include_images=False,\n",
    "                    include_links=False\n",
    "                )\n",
    "\n",
    "                if text:\n",
    "                    cleaned_text = clean_text(text)\n",
    "                    if len(cleaned_text) > 100:  # Only keep if substantial content\n",
    "                        news_df.at[index, 'full_text'] = cleaned_text\n",
    "                    else:\n",
    "                        news_df.at[index, 'full_text'] = 'Content too short or invalid'\n",
    "                else:\n",
    "                    # Fallback: try direct HTML extraction\n",
    "                    text = trafilatura.extract(\n",
    "                        response.text,\n",
    "                        include_comments=False,\n",
    "                        include_tables=False,\n",
    "                        no_fallback=False\n",
    "                    )\n",
    "                    if text:\n",
    "                        news_df.at[index, 'full_text'] = clean_text(text)\n",
    "                    else:\n",
    "                        news_df.at[index, 'full_text'] = 'Failed to extract text'\n",
    "\n",
    "            time.sleep(2)\n",
    "\n",
    "        except Exception as e:\n",
    "            print(f\"Error processing article {index + 1}: {e}\")\n",
    "            news_df.at[index, 'full_text'] = f\"Error: {str(e)}\"\n",
    "            continue\n",
    "\n",
    "    # Remove rows with failed extractions\n",
    "    news_df = news_df[~news_df['full_text'].str.contains('Failed to extract|Error:|Content too short')]\n",
    "\n",
    "    return news_df\n",
    "\n",
    "# Example usage\n",
    "query = \"artificial intelligence\"\n",
    "df = get_full_news(query, max_articles=5)\n",
    "\n",
    "# Display results\n",
    "for index, row in df.iterrows():\n",
    "    print(f\"\\nArticle {index + 1}:\")\n",
    "    print(f\"Title: {row['title']}\")\n",
    "    print(f\"Text preview: {row['full_text'][:300]}...\")  # Show first 300 chars\n",
    "    print(\"-\" * 80)\n",
    "\n",
    "# Save to CSV (optional)\n",
    "df.to_csv('ai_news.csv', index=False)"
   ],
   "id": "12bb9edf722dc033",
   "outputs": [
    {
     "name": "stdout",
     "output_type": "stream",
     "text": [
      "Fetching article 1/5: https://news.google.com/rss/articles/CBMi4wFBVV95cUxPUzlxRmtQXzcyUUljZGpDd0thVjI3UklLOU1DcFdNaWZwZE5xTWN5b283aEN1SFBRbVYyWXBJX2RDVG9MWVNwcmswV05PLXB0RG5CUE5Xb2I4NzFSSjJ5N2hjZ3Z1RlJKMG1xZ2cyaXRKUWN5MXpXRzBrS0JYYms0RDl3LWtRSFlQXzNEbV9ZTEwxaDdmVHdpcXJsWWxxdW9KX0tEMUpWak1RX3pRSU5OTFhucDFNZkViRGtCXzV0YTcwN25RUlVfWVVPTEhVTGwtWHZUY2NVWjl2MlpTb1NITDdVUQ?oc=5&hl=en-US&gl=US&ceid=US:en\n",
      "Error processing article 1: fetch_url() got an unexpected keyword argument 'headers'\n",
      "Fetching article 2/5: https://news.google.com/rss/articles/CBMirAFBVV95cUxNc3hseFhGNHZrWDNIbW0yQjNfMWpoWWJuZFVQNzNlQWtFVEs1OVhfN0ZJNmFHOUtOd3NhYjZSMm5CclVFam1BV1lCdmpxczdyVFdFNmxwODVDZkhRT3kxQmJUb0x2N201dFFMMHF1MFhsZnZfanZ4OEoyRzUwVWgxdzRYUFNva080Wm9YRUJPcnFVMzhab3BtM19kRGdZd3JUX1R4aTFTa3RiZDRw?oc=5&hl=en-US&gl=US&ceid=US:en\n",
      "Error processing article 2: fetch_url() got an unexpected keyword argument 'headers'\n",
      "Fetching article 3/5: https://news.google.com/rss/articles/CBMijwFBVV95cUxOV3pWa0xaWmFNMHdDVmsyX2hoWUNSQ3FHZFotb0RGUFRlMHNoM18xUzg1clBQZW9tdnVQS0FZMGRYb1N1Z2RkUHFMczAtMERuUWlGalh3Qk1lUEZkSGdzN19OdmdEbjNHM0RjaWh3dHJ0TGFCZDZ4RC1id1JfbmVmMXdoR0pZSlpqOC1LRDlUQQ?oc=5&hl=en-US&gl=US&ceid=US:en\n",
      "Error processing article 3: fetch_url() got an unexpected keyword argument 'headers'\n",
      "Fetching article 4/5: https://news.google.com/rss/articles/CBMipwFBVV95cUxOeXNJWnhJSENuaFQzUlBBY2NWWkt2aG1kX01MU25mTDN1V2I3TlJOSnpYcTVLcjdJVHFfaThMeDJtNHRuOUdzYjlPclMyRWJTRXNadmxyMEpvX3lKZEhDZlU2SDVWYVZpZGotaTVHVlRfaTNwc0ZMaUx5c2RfSHh2R2VKRG5LdnRMdnJ3S09vSmVlYU5kbXBJQ3pNR1kycVpDMXdyLWktaw?oc=5&hl=en-US&gl=US&ceid=US:en\n",
      "Error processing article 4: fetch_url() got an unexpected keyword argument 'headers'\n",
      "Fetching article 5/5: https://news.google.com/rss/articles/CBMisgFBVV95cUxNOFBDRVRNbldGOW8tQndQQTBPVmFoTXJnbTJQWk5lT29pclVIVHNFT09iWFN5Mm1OLVhYalIzRkN2eXZRSGh5cWZtUDc4aEo5TVNJNnh3aGU0N3JXTUdhbTFRNnFlNUwzQ0xPM09wQ2pyUU9wX2dReXdJT2RDbEZDaFRqNm9xSERURFR6Ql9tdjNBR251Y3FYRERJM3NlV0lHS29jakFyUkg2VzNpYzJLVU9n?oc=5&hl=en-US&gl=US&ceid=US:en\n",
      "Error processing article 5: fetch_url() got an unexpected keyword argument 'headers'\n"
     ]
    }
   ],
   "execution_count": 19
  },
  {
   "metadata": {
    "ExecuteTime": {
     "end_time": "2025-01-07T11:25:59.633053Z",
     "start_time": "2025-01-07T11:25:59.626907Z"
    }
   },
   "cell_type": "code",
   "source": "json_resp[0]['url']",
   "id": "92bdea6848236018",
   "outputs": [
    {
     "data": {
      "text/plain": [
       "'https://news.google.com/rss/articles/CBMiigFBVV95cUxPWEtaeXVQdXlfaFdHajl2NzBJcG5oeWdxS2F4Y2x4WkxETmZqbGduNmdwUVIyNjdxZ3YyM2g5bXZoa3NHRDhULTJ1aW4yaTBUbFJVM2FNbGFXdFZlZXlGM09VM3IxSWo4dnJra0ppeVNNV3puZGtlVDZpb0ZiTEM3N2ozQl9waFVVT0E?oc=5&hl=en-US&gl=US&ceid=US:en'"
      ]
     },
     "execution_count": 4,
     "metadata": {},
     "output_type": "execute_result"
    }
   ],
   "execution_count": 4
  },
  {
   "metadata": {},
   "cell_type": "code",
   "outputs": [],
   "execution_count": null,
   "source": "",
   "id": "df3cd7724447a19d"
  }
 ],
 "metadata": {
  "kernelspec": {
   "display_name": "Python 3",
   "language": "python",
   "name": "python3"
  },
  "language_info": {
   "codemirror_mode": {
    "name": "ipython",
    "version": 2
   },
   "file_extension": ".py",
   "mimetype": "text/x-python",
   "name": "python",
   "nbconvert_exporter": "python",
   "pygments_lexer": "ipython2",
   "version": "2.7.6"
  }
 },
 "nbformat": 4,
 "nbformat_minor": 5
}
